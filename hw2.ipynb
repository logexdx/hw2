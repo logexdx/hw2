{
 "cells": [
  {
   "cell_type": "code",
   "execution_count": 14,
   "id": "6bd07944-63f9-44de-8794-915cda66c1ce",
   "metadata": {},
   "outputs": [
    {
     "name": "stdout",
     "output_type": "stream",
     "text": [
      "phrase_2 is londer than phrase_1\n"
     ]
    }
   ],
   "source": [
    "#Задание 1. выполнено!\n",
    "#Даны 2 переменных, в которых хранятся строки произвольной длины: phrase_1 и phrase_2. \n",
    "#Напишите код, который проверяет какая из этих строк длиннее.Примеры работы программы:\n",
    "#1.\n",
    "#phrase_1 = 'Насколько проще было бы писать программы, если бы не заказчики' 62\n",
    "#phrase_2 = '640Кб должно хватить для любых задач. Билл Гейтс (по легенде)' 61\n",
    "\n",
    "\n",
    "phrase_1 = '640Кб должно хватить для любых задач. Билл Гейтс (по легенде)'\n",
    "phrase_2 = 'Насколько проще было бы писать программы, если бы не заказчики'\n",
    "if len(phrase_1) > len(phrase_2):\n",
    "    print('phrase_1 is londer than phrase_2')\n",
    "elif len(phrase_1) < len(phrase_2):\n",
    "    print('phrase_2 is londer than phrase_1')\n",
    "elif len(phrase_1) == len(phrase_2):\n",
    "    print('phrase_1 is equal to phrase_2')"
   ]
  },
  {
   "cell_type": "code",
   "execution_count": 56,
   "id": "c1a67518-622e-44f8-a1e6-04aa96c66eee",
   "metadata": {},
   "outputs": [
    {
     "name": "stdin",
     "output_type": "stream",
     "text": [
      "Введите год 2016\n"
     ]
    },
    {
     "name": "stdout",
     "output_type": "stream",
     "text": [
      "високосный\n"
     ]
    }
   ],
   "source": [
    "#Задание 2. выполнено!\n",
    "#Дана переменная, в которой хранится число (год). \n",
    "#Необходимо написать программу, которая выведет, является ли данный год високосным или обычным.\n",
    "\n",
    "user_input = int(input('Введите год'))\n",
    "if (user_input % 4 == 0 and user_input % 100 != 0) or (user_input % 400 == 0):\n",
    "    print('високосный')\n",
    "else:\n",
    "    print('не високосный')"
   ]
  },
  {
   "cell_type": "code",
   "execution_count": 99,
   "id": "28f26a8d-968e-4d8a-8cf9-94bc5928ff02",
   "metadata": {},
   "outputs": [
    {
     "name": "stdout",
     "output_type": "stream",
     "text": [
      "Программа для определение знака задиака по дню и месяцу рождения\n"
     ]
    },
    {
     "name": "stdin",
     "output_type": "stream",
     "text": [
      "Введите день вашего рождения 2\n",
      "Введите месяц вашего рождения ноябрь\n"
     ]
    },
    {
     "name": "stdout",
     "output_type": "stream",
     "text": [
      "поздравляю! вы - Скорпион\n",
      "Конец программы\n"
     ]
    }
   ],
   "source": [
    "#Задание 3. выполнено!\n",
    "#Необходимо написать программу, которая будет запрашивать у пользователя месяц и дату рождения и выводить соответствующий знак зодиака.\n",
    "\n",
    "print('Программа для определение знака задиака по дню и месяцу рождения')\n",
    "\n",
    "#Ввод данных пользователем\n",
    "day = int(input('Введите день вашего рождения'))\n",
    "month = input('Введите месяц вашего рождения')\n",
    "\n",
    "#Сопоставление введенных данных с базой данных знаков зодиака\n",
    "if (day >= 21 and month == 'март') or (day <= 20 and month == 'апрель'):\n",
    "    print('поздравляю! вы - Овен')\n",
    "if (day >= 21 and month == 'апрель') or (day <= 21 and month == 'май'):\n",
    "    print('поздравляю! вы - Телец')\n",
    "if (day >= 22 and month == 'май') or (day <= 21 and month == 'июнь'):\n",
    "    print('поздравляю! вы - Блезнец')\n",
    "if (day >= 22 and month == 'июнь') or (day <= 22 and month == 'июль'):\n",
    "    print('поздравляю! вы - Рак')\n",
    "if (day >= 23 and month == 'июль') or (day <= 23 and month == 'август'):\n",
    "    print('поздравляю! вы - Лев')\n",
    "if (day >= 24 and month == 'август') or (day <= 23 and month == 'сентябрь'):\n",
    "    print('поздравляю! вы - Дева')\n",
    "if (day >= 24 and month == 'сентябрь') or (day <= 23 and month == 'октябрь'):\n",
    "    print('поздравляю! вы - Весы')\n",
    "if (day >= 24 and month == 'октябрь') or (day <= 22 and month == 'ноябрь'):\n",
    "    print('поздравляю! вы - Скорпион')\n",
    "if (day >= 23 and month == 'ноябрь') or (day <= 22 and month == 'декабрь'):\n",
    "    print('поздравляю! вы - Стрелец')\n",
    "if (day >= 23 and month == 'декабрь') or (day <= 20 and month == 'январь'):\n",
    "    print('поздравляю! вы - Козерог')\n",
    "if (day >= 21 and month == 'январь') or (day <= 19 and month == 'февраль'):\n",
    "    print('поздравляю! вы - Водолей')\n",
    "if (day >= 20 and month == 'февраль') or (day <= 20 and month == 'март'):\n",
    "    print('поздравляю! вы - Рыбы')\n",
    "\n",
    "print('Конец программы')"
   ]
  },
  {
   "cell_type": "code",
   "execution_count": 151,
   "id": "37032962-596e-45ce-8c46-4fa6cf84c0b5",
   "metadata": {},
   "outputs": [
    {
     "name": "stdout",
     "output_type": "stream",
     "text": [
      "Box 2\n"
     ]
    }
   ],
   "source": [
    "#Задание 4. выполнено!\n",
    "#Вам нужно написать программу для подбора упаковок по размерам товара. Размеры (ширина, длина, высота) хранятся в переменных (в сантиметрах):\n",
    "#Используйте следующие правила:\n",
    "#•\tесли каждое из трех измерений менее или равно 15 сантиметрам, то выведите на экран \"Коробка №1\";\n",
    "#•\tесли хотя бы одно из измерений больше 2 метров, то выводите \"Упаковка для лыж\";\n",
    "#•\tесли хотя бы одно из измерений больше 15 сантиметров, но менее 50 сантиметров, то выводите \"Коробка №2\";\n",
    "#•\tво всех остальных случаях выводите \"Коробка №3\".\n",
    "\n",
    "# Ввод параметров товара\n",
    "width = 45\n",
    "length = 45\n",
    "height = 45\n",
    "\n",
    "# Программа выполнения\n",
    "if width > 200 or length > 200 or height > 200:\n",
    "    print('SkiBox')\n",
    "elif width <= 15 and length <= 15 and height<= 15:\n",
    "    print('Box 1')\n",
    "elif 15 < width < 50 or 15 < length < 50 or 15 < height < 50:\n",
    "    print('Box 2')\n",
    "else:\n",
    "    print('Box 3')"
   ]
  },
  {
   "cell_type": "code",
   "execution_count": 171,
   "id": "f95a6473-5f8c-44af-ab5a-ba13fb577d91",
   "metadata": {},
   "outputs": [
    {
     "name": "stdout",
     "output_type": "stream",
     "text": [
      "UNlucky ticket\n"
     ]
    }
   ],
   "source": [
    "#Задание 5. выполнено!\n",
    "#Дана переменная, в которой хранится шестизначное число (номер проездного билета). \n",
    "#Напишите программу, которая будет определять, является ли данный билет \"счастливым\". \n",
    "#Билет считается счастливым, если сумма первых трех цифр совпадает с суммой последних трех цифр номера.\n",
    "#1 - 123456\n",
    "#2 - 123321\n",
    "\n",
    "n = 820365\n",
    "d1 = n % 10 # последняя цифра числа\n",
    "d2 = (n % 100) // 10\n",
    "d3 = (n % 1000) // 100\n",
    "d4 = (n % 10000) // 1000\n",
    "d5 = (n % 100000) // 10000\n",
    "d6 = n // 100000 # первая цифра числа\n",
    "\n",
    "# Вычисление\n",
    "if d1 + d2 + d3 == d4 + d5 + d6:\n",
    "    print('lucky ticket')\n",
    "else:\n",
    "    print('UNlucky ticket')"
   ]
  },
  {
   "cell_type": "code",
   "execution_count": 257,
   "id": "cf334457-f2e0-4cdb-9296-29eb4ca84506",
   "metadata": {},
   "outputs": [
    {
     "name": "stdin",
     "output_type": "stream",
     "text": [
      "Выберите фигуру (круг, треуг,прямоуг) прямоуг\n",
      "Введите длину стороны A 2\n",
      "Введите длину стороны B 5\n"
     ]
    },
    {
     "name": "stdout",
     "output_type": "stream",
     "text": [
      "Площадь прямоуг  10\n"
     ]
    }
   ],
   "source": [
    "#Задание 5. выполнено!\n",
    "#Напишите программу, которая сможет вычислять площади трех фигур (круг, треугольник и прямоугольник). \n",
    "#Тип фигуры запрашиваем через пользовательский ввод, после чего делаем запрос характеристик фигуры:\n",
    "#•\tесли пользователь выбрал круг, запрашиваем его радиус,\n",
    "#•\tесли треугольник – длины трех его сторон;\n",
    "#•\tесли прямоугольник – длины двух его сторон.\n",
    "\n",
    "#Ввод данных\n",
    "\n",
    "user_input = input('Выберите фигуру (круг, треуг,прямоуг)')\n",
    "if user_input == 'круг':\n",
    "    user_input = int(input('Введите радиус'))\n",
    "    s = 3.1415 * ((user_input) ** 2)\n",
    "    print('Площадь круга: ', round(s, 2))\n",
    "if user_input == 'треуг':\n",
    "    a = int(input('Введите длину стороны A'))\n",
    "    b = int(input('Введите длину стороны B'))\n",
    "    c = int(input('Введите длину стороны C'))\n",
    "    p = (a + b + c) / 2\n",
    "    s = (p * (p - a) * (p - b) * (p - c)) ** (0.5)\n",
    "    print('Площадь треуг ', round(s, 2))\n",
    "if user_input == 'прямоуг':\n",
    "    a = int(input('Введите длину стороны A'))\n",
    "    b = int(input('Введите длину стороны B'))\n",
    "    s = a * b\n",
    "    print('Площадь прямоуг ', round(s, 2))"
   ]
  },
  {
   "cell_type": "code",
   "execution_count": null,
   "id": "c4717ce5-9936-4dd7-b204-154231b7d077",
   "metadata": {},
   "outputs": [],
   "source": []
  }
 ],
 "metadata": {
  "kernelspec": {
   "display_name": "Python 3 (ipykernel)",
   "language": "python",
   "name": "python3"
  },
  "language_info": {
   "codemirror_mode": {
    "name": "ipython",
    "version": 3
   },
   "file_extension": ".py",
   "mimetype": "text/x-python",
   "name": "python",
   "nbconvert_exporter": "python",
   "pygments_lexer": "ipython3",
   "version": "3.12.4"
  }
 },
 "nbformat": 4,
 "nbformat_minor": 5
}
